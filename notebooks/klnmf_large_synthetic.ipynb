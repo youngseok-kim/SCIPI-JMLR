{
  "metadata": {
    "language_info": {
      "codemirror_mode": {
        "name": "python",
        "version": 3
      },
      "file_extension": ".py",
      "mimetype": "text/x-python",
      "name": "python",
      "nbconvert_exporter": "python",
      "pygments_lexer": "ipython3",
      "version": "3.8"
    },
    "kernelspec": {
      "name": "python",
      "display_name": "Python (Pyodide)",
      "language": "python"
    }
  },
  "nbformat_minor": 4,
  "nbformat": 4,
  "cells": [
    {
      "cell_type": "markdown",
      "source": "# KL divergence NMF (KLNMF) SCIPI",
      "metadata": {}
    },
    {
      "cell_type": "markdown",
      "source": "## Example: larger size synthetic data",
      "metadata": {}
    },
    {
      "cell_type": "markdown",
      "source": "### Load Libraries",
      "metadata": {}
    },
    {
      "cell_type": "code",
      "source": "import numpy as np\nimport pandas as pd\nimport matplotlib.pyplot as plt\nimport time",
      "metadata": {
        "trusted": true
      },
      "execution_count": 2,
      "outputs": []
    },
    {
      "cell_type": "markdown",
      "source": "### Load Sourcecode",
      "metadata": {}
    },
    {
      "cell_type": "code",
      "source": "from src import klnmf",
      "metadata": {
        "trusted": true
      },
      "execution_count": 3,
      "outputs": []
    },
    {
      "cell_type": "markdown",
      "source": "### Set Random Seed",
      "metadata": {}
    },
    {
      "cell_type": "code",
      "source": "today_num = int(pd.Timestamp.today().date().strftime(\"%Y%m%d\"))\noffset = 0\nprint(f\"our seed is {today_num + offset}\")\nnp.random.seed(today_num + offset)",
      "metadata": {
        "trusted": true
      },
      "execution_count": 4,
      "outputs": [
        {
          "name": "stdout",
          "text": "our seed is 20230810\n",
          "output_type": "stream"
        }
      ]
    },
    {
      "cell_type": "markdown",
      "source": "### Set Size",
      "metadata": {}
    },
    {
      "cell_type": "code",
      "source": "n = 5000\nm = 2000\nk = 20\nour_dtype = 'float32'\n\nV_orig = np.random.randn(n,m).astype(our_dtype)\nV_orig = (V_orig - 0.5) * (V_orig > 0.5)\nV_orig = V_orig / V_orig.sum().sum() * k",
      "metadata": {
        "trusted": true
      },
      "execution_count": 5,
      "outputs": []
    },
    {
      "cell_type": "code",
      "source": "# We resize the scale of V_orig.\n# This is not requirede but to ease the objective calculation.\n# V_orig is our target matrix to be decomposed",
      "metadata": {
        "trusted": true
      },
      "execution_count": 6,
      "outputs": []
    },
    {
      "cell_type": "code",
      "source": "print(f\"size of V: {V_orig.shape}\")",
      "metadata": {
        "trusted": true
      },
      "execution_count": 7,
      "outputs": [
        {
          "name": "stdout",
          "text": "size of V: (5000, 2000)\n",
          "output_type": "stream"
        }
      ]
    },
    {
      "cell_type": "markdown",
      "source": "### Our matrix to be decomposed",
      "metadata": {}
    },
    {
      "cell_type": "code",
      "source": "V_orig[:4,:4]",
      "metadata": {
        "trusted": true
      },
      "execution_count": 8,
      "outputs": [
        {
          "execution_count": 8,
          "output_type": "execute_result",
          "data": {
            "text/plain": "array([[-0.0000000e+00, -0.0000000e+00, -0.0000000e+00,  2.5298627e-06],\n       [-0.0000000e+00,  5.5810424e-06, -0.0000000e+00, -0.0000000e+00],\n       [ 3.6538017e-06, -0.0000000e+00,  1.1034765e-05, -0.0000000e+00],\n       [ 1.7803399e-05, -0.0000000e+00,  4.0481877e-06, -0.0000000e+00]],\n      dtype=float32)"
          },
          "metadata": {}
        }
      ]
    },
    {
      "cell_type": "markdown",
      "source": "### Initialization",
      "metadata": {}
    },
    {
      "cell_type": "code",
      "source": "W_mat, H_mat, A_mat = klnmf.init_klnmf(V_orig, k, seed = 1, our_dtype = our_dtype)",
      "metadata": {
        "trusted": true
      },
      "execution_count": 11,
      "outputs": []
    },
    {
      "cell_type": "code",
      "source": "# we will use the same initialization for all the method\n# the above function `init_klnmf` provies 1-step MU initialization from random matrix\n# please see the manuscript for details",
      "metadata": {},
      "execution_count": null,
      "outputs": []
    },
    {
      "cell_type": "markdown",
      "source": "### Run Methods",
      "metadata": {}
    },
    {
      "cell_type": "markdown",
      "source": "#### MU (Multiplicatsive Updates)",
      "metadata": {}
    },
    {
      "cell_type": "code",
      "source": "res_mu = klnmf.run_mu(V_orig, k)",
      "metadata": {
        "trusted": true
      },
      "execution_count": 12,
      "outputs": [
        {
          "name": "stdout",
          "text": "init: obj 70.76474312732981\nround 50: obj 70.14707116077707\nround 100: obj 69.99435738514231\nround 150: obj 69.94088677357004\nround 200: obj 69.91346100757883\nround 250: obj 69.89652947376536\nround 300: obj 69.88497284839914\nround 350: obj 69.87650422046946\nround 400: obj 69.86998871753977\nround 450: obj 69.86483315418528\nround 500: obj 69.86065033863352\nround 550: obj 69.85721138904856\nround 600: obj 69.85426835010813\nround 650: obj 69.85171822498606\nround 700: obj 69.84950760792063\nround 750: obj 69.847552575572\nround 800: obj 69.84580162952707\nround 850: obj 69.84425476978586\nround 900: obj 69.84283760975168\nround 950: obj 69.84152535389231\nround 1000: obj 69.84036568592356\n",
          "output_type": "stream"
        }
      ]
    },
    {
      "cell_type": "code",
      "source": "res_mu_with_normalize = klnmf.run_mu_with_normalize(V_orig, k)",
      "metadata": {
        "trusted": true
      },
      "execution_count": 13,
      "outputs": [
        {
          "name": "stdout",
          "text": "init: obj 70.76474312732981\nround 50: obj 70.1470902342634\nround 100: obj 69.99435929249094\nround 150: obj 69.940907754405\nround 200: obj 69.9134648222761\nround 250: obj 69.89651993702219\nround 300: obj 69.88497666309641\nround 350: obj 69.87651947925852\nround 400: obj 69.8700020689802\nround 450: obj 69.86485985706614\nround 500: obj 69.86069230030344\nround 550: obj 69.85724572132395\nround 600: obj 69.85434082935618\nround 650: obj 69.85177926014231\nround 700: obj 69.84954384754465\nround 750: obj 69.84758500049875\nround 800: obj 69.84585312794016\nround 850: obj 69.84429291675852\nround 900: obj 69.84286431263254\nround 950: obj 69.84158829639719\nround 1000: obj 69.84044007252024\n",
          "output_type": "stream"
        }
      ]
    },
    {
      "cell_type": "code",
      "source": "# run_mu is running mu without rescaling every round\n# run_mu_with_normalize is running mu with rescaling every round\n# they are visually the same\n# however one is a little slower due to rescaling\n# the other is a little numerically instable\n# however for this example they are nearly identical",
      "metadata": {},
      "execution_count": null,
      "outputs": []
    },
    {
      "cell_type": "markdown",
      "source": "#### SCIPI (Scale Invariant Power Iteration)",
      "metadata": {}
    },
    {
      "cell_type": "code",
      "source": "res_scipi = klnmf.run_scipi(V_orig, k)",
      "metadata": {
        "trusted": true
      },
      "execution_count": 14,
      "outputs": [
        {
          "name": "stdout",
          "text": "init: obj 70.76474312732981\nround 50: obj 69.99270752857493\nround 100: obj 69.91166047046946\nround 150: obj 69.88351754139231\nround 200: obj 69.86870125721262\nround 250: obj 69.85953835438059\nround 300: obj 69.85325745533274\nround 350: obj 69.84859780262278\nround 400: obj 69.84496811817453\nround 450: obj 69.84204606006907\nround 500: obj 69.83966568897532\nround 550: obj 69.8376591582136\nround 600: obj 69.8359444517927\nround 650: obj 69.83447579334543\nround 700: obj 69.8331540007429\nround 750: obj 69.83193711231516\nround 800: obj 69.83087281177805\nround 850: obj 69.82987908314036\nround 900: obj 69.82900551746653\nround 950: obj 69.8282368559675\nround 1000: obj 69.82752541492746\n",
          "output_type": "stream"
        }
      ]
    },
    {
      "cell_type": "code",
      "source": "",
      "metadata": {},
      "execution_count": null,
      "outputs": []
    },
    {
      "cell_type": "markdown",
      "source": "#### PGD (Projected Gradient Descent)",
      "metadata": {}
    },
    {
      "cell_type": "code",
      "source": "# lots of papers about projection onto the simplex\n# e.g.\n# https://arxiv.org/pdf/1101.6081.pdf\n# https://math.stackexchange.com/questions/3778014/matlab-python-euclidean-projection-on-the-simplex-why-is-my-code-wrong\n# https://stanford.edu/~jduchi/projects/DuchiShSiCh08.html\n# https://link.springer.com/article/10.1007/s10107-015-0946-6\n# https://gist.github.com/mblondel/6f3b7aaad90606b98f71",
      "metadata": {},
      "execution_count": null,
      "outputs": []
    },
    {
      "cell_type": "code",
      "source": "# we choose the fastest one here among the above",
      "metadata": {},
      "execution_count": null,
      "outputs": []
    },
    {
      "cell_type": "code",
      "source": "res_pgd = klnmf.run_pgd(V_orig, k, stepsize = 1.5)",
      "metadata": {
        "trusted": true
      },
      "execution_count": 15,
      "outputs": [
        {
          "name": "stdout",
          "text": "init: obj 70.76474312732981\nround 50: obj 70.04618958423899\nround 100: obj 69.94009713123606\nround 150: obj 69.90339592884348\nround 200: obj 69.88437966297434\nround 250: obj 69.87249688099192\nround 300: obj 69.86433533619211\nround 350: obj 69.85841492603586\nround 400: obj 69.85385827015207\nround 450: obj 69.85020569752024\nround 500: obj 69.84721878956125\nround 550: obj 69.84468773792551\nround 600: obj 69.84250382374094\nround 650: obj 69.84060791919993\nround 700: obj 69.839007653697\nround 750: obj 69.83757714222239\nround 800: obj 69.83626870106028\nround 850: obj 69.83512238453196\nround 900: obj 69.83409432361887\nround 950: obj 69.83318451832102\nround 1000: obj 69.83225182483957\n",
          "output_type": "stream"
        }
      ]
    },
    {
      "cell_type": "code",
      "source": "res_pgd2 = klnmf.run_pgd(V_orig, k, stepsize = 0.5)",
      "metadata": {
        "trusted": true
      },
      "execution_count": 16,
      "outputs": [
        {
          "name": "stdout",
          "text": "init: obj 70.76474312732981\nround 50: obj 70.37685135792063\nround 100: obj 70.14625672291086\nround 150: obj 70.04693726490305\nround 200: obj 69.99504784534739\nround 250: obj 69.96329049061106\nround 300: obj 69.94170502613352\nround 350: obj 69.92608765552805\nround 400: obj 69.91417817066477\nround 450: obj 69.90478829334543\nround 500: obj 69.89722565601633\nround 550: obj 69.89090279529856\nround 600: obj 69.88557175586985\nround 650: obj 69.88105515430735\nround 700: obj 69.8770821471052\nround 750: obj 69.87363175342844\nround 800: obj 69.87055329273508\nround 850: obj 69.8677876372175\nround 900: obj 69.86531762073801\nround 950: obj 69.86313370655344\nround 1000: obj 69.8611023802595\n",
          "output_type": "stream"
        }
      ]
    },
    {
      "cell_type": "code",
      "source": "res_pgd_with_linesearch = klnmf.run_pgd_with_linesearch(V_orig, k)",
      "metadata": {
        "trusted": true
      },
      "execution_count": 17,
      "outputs": [
        {
          "name": "stdout",
          "text": "init: obj 70.76474312732981\nround 50: obj 70.06500939319895\nround 100: obj 69.95484475086496\nround 150: obj 69.91453865955637\nround 200: obj 69.89364556263254\nround 250: obj 69.88066796253489\nround 300: obj 69.87179688404368\nround 350: obj 69.86519173572825\nround 400: obj 69.86008194874094\nround 450: obj 69.8560860533552\nround 500: obj 69.85281876514719\nround 550: obj 69.85004357288645\nround 600: obj 69.84767846058176\nround 650: obj 69.8457272429304\nround 700: obj 69.84399346302317\nround 750: obj 69.84237603138254\nround 800: obj 69.84101227711008\nround 850: obj 69.83975914905832\nround 900: obj 69.83863762806223\nround 950: obj 69.83764008472727\nround 1000: obj 69.83676842640207\n",
          "output_type": "stream"
        }
      ]
    }
  ]
}