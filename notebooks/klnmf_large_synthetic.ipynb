{
 "cells": [
  {
   "cell_type": "markdown",
   "metadata": {},
   "source": [
    "# KL divergence NMF (KLNMF) SCIPI"
   ]
  },
  {
   "cell_type": "markdown",
   "metadata": {},
   "source": [
    "## Example: larger size synthetic data"
   ]
  },
  {
   "cell_type": "markdown",
   "metadata": {},
   "source": [
    "### Load Libraries"
   ]
  },
  {
   "cell_type": "code",
   "execution_count": 1,
   "metadata": {},
   "outputs": [],
   "source": [
    "import numpy as np\n",
    "import pandas as pd\n",
    "import matplotlib.pyplot as plt\n",
    "import time"
   ]
  },
  {
   "cell_type": "markdown",
   "metadata": {},
   "source": [
    "### Load Sourcecode"
   ]
  },
  {
   "cell_type": "code",
   "execution_count": 2,
   "metadata": {},
   "outputs": [],
   "source": [
    "import sys, os\n",
    "sys.path.append(os.path.join(os.path.dirname(sys.argv[1]), '..', 'src'))"
   ]
  },
  {
   "cell_type": "code",
   "execution_count": 3,
   "metadata": {},
   "outputs": [],
   "source": [
    "import klnmf"
   ]
  },
  {
   "cell_type": "markdown",
   "metadata": {},
   "source": [
    "### Set Random Seed"
   ]
  },
  {
   "cell_type": "code",
   "execution_count": 4,
   "metadata": {},
   "outputs": [
    {
     "name": "stdout",
     "output_type": "stream",
     "text": [
      "our seed is 20230810\n"
     ]
    }
   ],
   "source": [
    "today_num = int(pd.Timestamp.today().date().strftime(\"%Y%m%d\"))\n",
    "offset = 0\n",
    "print(f\"our seed is {today_num + offset}\")\n",
    "np.random.seed(today_num + offset)"
   ]
  },
  {
   "cell_type": "markdown",
   "metadata": {},
   "source": [
    "### Set Size"
   ]
  },
  {
   "cell_type": "code",
   "execution_count": 5,
   "metadata": {},
   "outputs": [],
   "source": [
    "n = 5000\n",
    "m = 2000\n",
    "k = 20\n",
    "our_dtype = 'float32'\n",
    "\n",
    "V_orig = np.random.randn(n,m).astype(our_dtype)\n",
    "V_orig = (V_orig - 0.5) * (V_orig > 0.5)\n",
    "V_orig = V_orig / V_orig.sum().sum() * k"
   ]
  },
  {
   "cell_type": "code",
   "execution_count": 6,
   "metadata": {},
   "outputs": [],
   "source": [
    "# We resize the scale of V_orig.\n",
    "# This is not requirede but to ease the objective calculation.\n",
    "# V_orig is our target matrix to be decomposed"
   ]
  },
  {
   "cell_type": "code",
   "execution_count": 7,
   "metadata": {},
   "outputs": [
    {
     "name": "stdout",
     "output_type": "stream",
     "text": [
      "size of V: (5000, 2000)\n"
     ]
    }
   ],
   "source": [
    "print(f\"size of V: {V_orig.shape}\")"
   ]
  },
  {
   "cell_type": "markdown",
   "metadata": {},
   "source": [
    "### Our matrix to be decomposed"
   ]
  },
  {
   "cell_type": "code",
   "execution_count": 8,
   "metadata": {},
   "outputs": [
    {
     "data": {
      "text/plain": [
       "array([[-0.0000000e+00, -0.0000000e+00, -0.0000000e+00,  2.5298627e-06],\n",
       "       [-0.0000000e+00,  5.5810424e-06, -0.0000000e+00, -0.0000000e+00],\n",
       "       [ 3.6538017e-06, -0.0000000e+00,  1.1034765e-05, -0.0000000e+00],\n",
       "       [ 1.7803399e-05, -0.0000000e+00,  4.0481877e-06, -0.0000000e+00]],\n",
       "      dtype=float32)"
      ]
     },
     "execution_count": 8,
     "metadata": {},
     "output_type": "execute_result"
    }
   ],
   "source": [
    "V_orig[:4,:4]"
   ]
  },
  {
   "cell_type": "markdown",
   "metadata": {},
   "source": [
    "### Initialization"
   ]
  },
  {
   "cell_type": "code",
   "execution_count": 11,
   "metadata": {},
   "outputs": [],
   "source": [
    "W_mat, H_mat, A_mat = klnmf.init_klnmf(V_orig, k, seed = 1, our_dtype = our_dtype)"
   ]
  },
  {
   "cell_type": "code",
   "execution_count": null,
   "metadata": {},
   "outputs": [],
   "source": [
    "# we will use the same initialization for all the method\n",
    "# the above function `init_klnmf` provies 1-step MU initialization from random matrix\n",
    "# please see the manuscript for details"
   ]
  },
  {
   "cell_type": "markdown",
   "metadata": {},
   "source": [
    "### Run Methods"
   ]
  },
  {
   "cell_type": "markdown",
   "metadata": {},
   "source": [
    "#### MU (Multiplicatsive Updates)"
   ]
  },
  {
   "cell_type": "code",
   "execution_count": 12,
   "metadata": {},
   "outputs": [
    {
     "name": "stdout",
     "output_type": "stream",
     "text": [
      "init: obj 70.76474312732981\n",
      "round 50: obj 70.14707116077707\n",
      "round 100: obj 69.99435738514231\n",
      "round 150: obj 69.94088677357004\n",
      "round 200: obj 69.91346100757883\n",
      "round 250: obj 69.89652947376536\n",
      "round 300: obj 69.88497284839914\n",
      "round 350: obj 69.87650422046946\n",
      "round 400: obj 69.86998871753977\n",
      "round 450: obj 69.86483315418528\n",
      "round 500: obj 69.86065033863352\n",
      "round 550: obj 69.85721138904856\n",
      "round 600: obj 69.85426835010813\n",
      "round 650: obj 69.85171822498606\n",
      "round 700: obj 69.84950760792063\n",
      "round 750: obj 69.847552575572\n",
      "round 800: obj 69.84580162952707\n",
      "round 850: obj 69.84425476978586\n",
      "round 900: obj 69.84283760975168\n",
      "round 950: obj 69.84152535389231\n",
      "round 1000: obj 69.84036568592356\n"
     ]
    }
   ],
   "source": [
    "res_mu = klnmf.run_mu(V_orig, k)"
   ]
  },
  {
   "cell_type": "code",
   "execution_count": 13,
   "metadata": {},
   "outputs": [
    {
     "name": "stdout",
     "output_type": "stream",
     "text": [
      "init: obj 70.76474312732981\n",
      "round 50: obj 70.1470902342634\n",
      "round 100: obj 69.99435929249094\n",
      "round 150: obj 69.940907754405\n",
      "round 200: obj 69.9134648222761\n",
      "round 250: obj 69.89651993702219\n",
      "round 300: obj 69.88497666309641\n",
      "round 350: obj 69.87651947925852\n",
      "round 400: obj 69.8700020689802\n",
      "round 450: obj 69.86485985706614\n",
      "round 500: obj 69.86069230030344\n",
      "round 550: obj 69.85724572132395\n",
      "round 600: obj 69.85434082935618\n",
      "round 650: obj 69.85177926014231\n",
      "round 700: obj 69.84954384754465\n",
      "round 750: obj 69.84758500049875\n",
      "round 800: obj 69.84585312794016\n",
      "round 850: obj 69.84429291675852\n",
      "round 900: obj 69.84286431263254\n",
      "round 950: obj 69.84158829639719\n",
      "round 1000: obj 69.84044007252024\n"
     ]
    }
   ],
   "source": [
    "res_mu_with_normalize = klnmf.run_mu_with_normalize(V_orig, k)"
   ]
  },
  {
   "cell_type": "code",
   "execution_count": null,
   "metadata": {},
   "outputs": [],
   "source": [
    "# run_mu is running mu without rescaling every round\n",
    "# run_mu_with_normalize is running mu with rescaling every round\n",
    "# they are visually the same\n",
    "# however one is a little slower due to rescaling\n",
    "# the other is a little numerically instable\n",
    "# however for this example they are nearly identical"
   ]
  },
  {
   "cell_type": "markdown",
   "metadata": {},
   "source": [
    "#### SCIPI (Scale Invariant Power Iteration)"
   ]
  },
  {
   "cell_type": "code",
   "execution_count": 14,
   "metadata": {},
   "outputs": [
    {
     "name": "stdout",
     "output_type": "stream",
     "text": [
      "init: obj 70.76474312732981\n",
      "round 50: obj 69.99270752857493\n",
      "round 100: obj 69.91166047046946\n",
      "round 150: obj 69.88351754139231\n",
      "round 200: obj 69.86870125721262\n",
      "round 250: obj 69.85953835438059\n",
      "round 300: obj 69.85325745533274\n",
      "round 350: obj 69.84859780262278\n",
      "round 400: obj 69.84496811817453\n",
      "round 450: obj 69.84204606006907\n",
      "round 500: obj 69.83966568897532\n",
      "round 550: obj 69.8376591582136\n",
      "round 600: obj 69.8359444517927\n",
      "round 650: obj 69.83447579334543\n",
      "round 700: obj 69.8331540007429\n",
      "round 750: obj 69.83193711231516\n",
      "round 800: obj 69.83087281177805\n",
      "round 850: obj 69.82987908314036\n",
      "round 900: obj 69.82900551746653\n",
      "round 950: obj 69.8282368559675\n",
      "round 1000: obj 69.82752541492746\n"
     ]
    }
   ],
   "source": [
    "res_scipi = klnmf.run_scipi(V_orig, k)"
   ]
  },
  {
   "cell_type": "code",
   "execution_count": null,
   "metadata": {},
   "outputs": [],
   "source": []
  },
  {
   "cell_type": "markdown",
   "metadata": {},
   "source": [
    "#### PGD (Projected Gradient Descent)"
   ]
  },
  {
   "cell_type": "code",
   "execution_count": null,
   "metadata": {},
   "outputs": [],
   "source": [
    "# lots of papers about projection onto the simplex\n",
    "# e.g.\n",
    "# https://arxiv.org/pdf/1101.6081.pdf\n",
    "# https://math.stackexchange.com/questions/3778014/matlab-python-euclidean-projection-on-the-simplex-why-is-my-code-wrong\n",
    "# https://stanford.edu/~jduchi/projects/DuchiShSiCh08.html\n",
    "# https://link.springer.com/article/10.1007/s10107-015-0946-6\n",
    "# https://gist.github.com/mblondel/6f3b7aaad90606b98f71"
   ]
  },
  {
   "cell_type": "code",
   "execution_count": null,
   "metadata": {},
   "outputs": [],
   "source": [
    "# we choose the fastest one here among the above"
   ]
  },
  {
   "cell_type": "code",
   "execution_count": 15,
   "metadata": {},
   "outputs": [
    {
     "name": "stdout",
     "output_type": "stream",
     "text": [
      "init: obj 70.76474312732981\n",
      "round 50: obj 70.04618958423899\n",
      "round 100: obj 69.94009713123606\n",
      "round 150: obj 69.90339592884348\n",
      "round 200: obj 69.88437966297434\n",
      "round 250: obj 69.87249688099192\n",
      "round 300: obj 69.86433533619211\n",
      "round 350: obj 69.85841492603586\n",
      "round 400: obj 69.85385827015207\n",
      "round 450: obj 69.85020569752024\n",
      "round 500: obj 69.84721878956125\n",
      "round 550: obj 69.84468773792551\n",
      "round 600: obj 69.84250382374094\n",
      "round 650: obj 69.84060791919993\n",
      "round 700: obj 69.839007653697\n",
      "round 750: obj 69.83757714222239\n",
      "round 800: obj 69.83626870106028\n",
      "round 850: obj 69.83512238453196\n",
      "round 900: obj 69.83409432361887\n",
      "round 950: obj 69.83318451832102\n",
      "round 1000: obj 69.83225182483957\n"
     ]
    }
   ],
   "source": [
    "res_pgd = klnmf.run_pgd(V_orig, k, stepsize = 1.5)"
   ]
  },
  {
   "cell_type": "code",
   "execution_count": 16,
   "metadata": {},
   "outputs": [
    {
     "name": "stdout",
     "output_type": "stream",
     "text": [
      "init: obj 70.76474312732981\n",
      "round 50: obj 70.37685135792063\n",
      "round 100: obj 70.14625672291086\n",
      "round 150: obj 70.04693726490305\n",
      "round 200: obj 69.99504784534739\n",
      "round 250: obj 69.96329049061106\n",
      "round 300: obj 69.94170502613352\n",
      "round 350: obj 69.92608765552805\n",
      "round 400: obj 69.91417817066477\n",
      "round 450: obj 69.90478829334543\n",
      "round 500: obj 69.89722565601633\n",
      "round 550: obj 69.89090279529856\n",
      "round 600: obj 69.88557175586985\n",
      "round 650: obj 69.88105515430735\n",
      "round 700: obj 69.8770821471052\n",
      "round 750: obj 69.87363175342844\n",
      "round 800: obj 69.87055329273508\n",
      "round 850: obj 69.8677876372175\n",
      "round 900: obj 69.86531762073801\n",
      "round 950: obj 69.86313370655344\n",
      "round 1000: obj 69.8611023802595\n"
     ]
    }
   ],
   "source": [
    "res_pgd2 = klnmf.run_pgd(V_orig, k, stepsize = 0.5)"
   ]
  },
  {
   "cell_type": "code",
   "execution_count": 17,
   "metadata": {},
   "outputs": [
    {
     "name": "stdout",
     "output_type": "stream",
     "text": [
      "init: obj 70.76474312732981\n",
      "round 50: obj 70.06500939319895\n",
      "round 100: obj 69.95484475086496\n",
      "round 150: obj 69.91453865955637\n",
      "round 200: obj 69.89364556263254\n",
      "round 250: obj 69.88066796253489\n",
      "round 300: obj 69.87179688404368\n",
      "round 350: obj 69.86519173572825\n",
      "round 400: obj 69.86008194874094\n",
      "round 450: obj 69.8560860533552\n",
      "round 500: obj 69.85281876514719\n",
      "round 550: obj 69.85004357288645\n",
      "round 600: obj 69.84767846058176\n",
      "round 650: obj 69.8457272429304\n",
      "round 700: obj 69.84399346302317\n",
      "round 750: obj 69.84237603138254\n",
      "round 800: obj 69.84101227711008\n",
      "round 850: obj 69.83975914905832\n",
      "round 900: obj 69.83863762806223\n",
      "round 950: obj 69.83764008472727\n",
      "round 1000: obj 69.83676842640207\n"
     ]
    }
   ],
   "source": [
    "res_pgd_with_linesearch = klnmf.run_pgd_with_linesearch(V_orig, k)"
   ]
  }
 ],
 "metadata": {
  "kernelspec": {
   "display_name": "Python 3 (ipykernel)",
   "language": "python",
   "name": "python3"
  },
  "language_info": {
   "codemirror_mode": {
    "name": "ipython",
    "version": 3
   },
   "file_extension": ".py",
   "mimetype": "text/x-python",
   "name": "python",
   "nbconvert_exporter": "python",
   "pygments_lexer": "ipython3",
   "version": "3.11.1"
  }
 },
 "nbformat": 4,
 "nbformat_minor": 4
}
