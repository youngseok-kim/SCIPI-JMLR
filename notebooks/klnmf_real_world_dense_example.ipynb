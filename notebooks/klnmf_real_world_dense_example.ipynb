{
 "cells": [
  {
   "cell_type": "markdown",
   "metadata": {},
   "source": [
    "# KL divergence NMF (KLNMF) SCIPI"
   ]
  },
  {
   "cell_type": "markdown",
   "metadata": {},
   "source": [
    "## Example: real data"
   ]
  },
  {
   "cell_type": "code",
   "execution_count": 1,
   "metadata": {},
   "outputs": [],
   "source": [
    "# We will use waving trees\n",
    "# need to download the data and set relative/absolute paths"
   ]
  },
  {
   "cell_type": "markdown",
   "metadata": {},
   "source": [
    "### Load Libraries"
   ]
  },
  {
   "cell_type": "code",
   "execution_count": 2,
   "metadata": {},
   "outputs": [],
   "source": [
    "import numpy as np\n",
    "import pandas as pd\n",
    "import matplotlib.pyplot as plt\n",
    "import time\n",
    "from PIL import Image"
   ]
  },
  {
   "cell_type": "markdown",
   "metadata": {},
   "source": [
    "### Load Sourcecode"
   ]
  },
  {
   "cell_type": "code",
   "execution_count": 3,
   "metadata": {},
   "outputs": [
    {
     "data": {
      "text/plain": [
       "<module 'klnmf' from 'C:\\\\Users\\\\bions\\\\Desktop\\\\git\\\\SCIPI-JMLR\\\\notebooks\\\\..\\\\src\\\\klnmf.py'>"
      ]
     },
     "execution_count": 3,
     "metadata": {},
     "output_type": "execute_result"
    }
   ],
   "source": [
    "import sys, os\n",
    "sys.path.append(os.path.join(os.path.dirname(sys.argv[1]), '..', 'src'))\n",
    "import klnmf\n",
    "import importlib\n",
    "importlib.reload(klnmf)"
   ]
  },
  {
   "cell_type": "markdown",
   "metadata": {},
   "source": [
    "### Set Random Seed"
   ]
  },
  {
   "cell_type": "code",
   "execution_count": 4,
   "metadata": {},
   "outputs": [
    {
     "name": "stdout",
     "output_type": "stream",
     "text": [
      "our seed is 20231019\n"
     ]
    }
   ],
   "source": [
    "today_num = int(pd.Timestamp.today().date().strftime(\"%Y%m%d\"))\n",
    "offset = 0\n",
    "print(f\"our seed is {today_num + offset}\")\n",
    "np.random.seed(today_num + offset)"
   ]
  },
  {
   "cell_type": "markdown",
   "metadata": {},
   "source": [
    "### Read data"
   ]
  },
  {
   "cell_type": "code",
   "execution_count": 5,
   "metadata": {},
   "outputs": [],
   "source": [
    "# you need to remove the first 3 lines from docword.kos\n",
    "# those lines have this metadata info\n",
    "n = 120 * 160\n",
    "m = 287"
   ]
  },
  {
   "cell_type": "code",
   "execution_count": 6,
   "metadata": {},
   "outputs": [],
   "source": [
    "from PIL import Image\n",
    "our_dtype = 'float32'"
   ]
  },
  {
   "cell_type": "markdown",
   "metadata": {},
   "source": [
    "### Set Size"
   ]
  },
  {
   "cell_type": "code",
   "execution_count": 7,
   "metadata": {},
   "outputs": [
    {
     "data": {
      "text/plain": [
       "array([[8.45581667e-06, 8.45581667e-06, 8.45581667e-06, ...,\n",
       "        8.76330091e-06, 8.60955879e-06, 8.60955879e-06],\n",
       "       [8.60955879e-06, 8.60955879e-06, 8.60955879e-06, ...,\n",
       "        8.60955879e-06, 8.60955879e-06, 8.60955879e-06],\n",
       "       [8.45581667e-06, 8.76330091e-06, 8.76330091e-06, ...,\n",
       "        8.60955879e-06, 8.76330091e-06, 8.76330091e-06],\n",
       "       ...,\n",
       "       [2.30613182e-06, 1.53742121e-06, 1.84490546e-06, ...,\n",
       "        2.61361606e-06, 2.45987394e-06, 2.45987394e-06],\n",
       "       [9.07078516e-06, 8.30207455e-06, 8.30207455e-06, ...,\n",
       "        7.84084819e-06, 8.45581667e-06, 8.76330091e-06],\n",
       "       [6.45716909e-06, 7.37962182e-06, 6.61091122e-06, ...,\n",
       "        1.07619485e-05, 1.04544642e-05, 1.01469800e-05]])"
      ]
     },
     "execution_count": 7,
     "metadata": {},
     "output_type": "execute_result"
    }
   ],
   "source": [
    "k = 20\n",
    "our_dtype = 'float32'\n",
    "\n",
    "files = [f for f in os.listdir(\"../../wavingtrees\") if f[-4:] == '.bmp']\n",
    "X = np.zeros((120 * 160, 287))\n",
    "for i in range(len(files)):\n",
    "    X[:,i] = np.asarray(Image.open(\"../../wavingtrees/\" + files[i]).convert('L')).reshape(-1).astype(our_dtype)\n",
    "\n",
    "V_orig = X[:3000, :]\n",
    "V_orig = V_orig / V_orig.sum().sum() * k\n",
    "V_orig"
   ]
  },
  {
   "cell_type": "code",
   "execution_count": 8,
   "metadata": {},
   "outputs": [],
   "source": [
    "# We resize the scale of V_orig.\n",
    "# This is not requirede but to ease the objective calculation.\n",
    "# V_orig is our target matrix to be decomposed"
   ]
  },
  {
   "cell_type": "code",
   "execution_count": 9,
   "metadata": {},
   "outputs": [
    {
     "name": "stdout",
     "output_type": "stream",
     "text": [
      "size of V: (3000, 287)\n"
     ]
    }
   ],
   "source": [
    "print(f\"size of V: {V_orig.shape}\")"
   ]
  },
  {
   "cell_type": "markdown",
   "metadata": {},
   "source": [
    "### Our matrix to be decomposed"
   ]
  },
  {
   "cell_type": "code",
   "execution_count": 10,
   "metadata": {},
   "outputs": [
    {
     "data": {
      "text/plain": [
       "array([[8.45581667e-06, 8.45581667e-06, 8.45581667e-06, 8.60955879e-06],\n",
       "       [8.60955879e-06, 8.60955879e-06, 8.60955879e-06, 8.60955879e-06],\n",
       "       [8.45581667e-06, 8.76330091e-06, 8.76330091e-06, 8.60955879e-06],\n",
       "       [8.60955879e-06, 8.76330091e-06, 8.76330091e-06, 8.60955879e-06]])"
      ]
     },
     "execution_count": 10,
     "metadata": {},
     "output_type": "execute_result"
    }
   ],
   "source": [
    "V_orig[:4, :4]"
   ]
  },
  {
   "cell_type": "markdown",
   "metadata": {},
   "source": [
    "### Initialization"
   ]
  },
  {
   "cell_type": "code",
   "execution_count": 11,
   "metadata": {},
   "outputs": [],
   "source": [
    "W_mat, H_mat, A_mat = klnmf.init_klnmf(V_orig, k, seed = 1, our_dtype = our_dtype)"
   ]
  },
  {
   "cell_type": "code",
   "execution_count": 12,
   "metadata": {},
   "outputs": [],
   "source": [
    "# we will use the same initialization for all the method\n",
    "# the above function `init_klnmf` provies 1-step MU initialization from random matrix\n",
    "# please see the manuscript for details"
   ]
  },
  {
   "cell_type": "markdown",
   "metadata": {},
   "source": [
    "### Run Methods"
   ]
  },
  {
   "cell_type": "code",
   "execution_count": 13,
   "metadata": {},
   "outputs": [],
   "source": [
    "# note that we need a sparse version of each method\n",
    "# we need to compute this\n",
    "# A = V / (W @ H + eps)\n",
    "# However W @ H can be 0 and regardless of V we have NaNs\n",
    "# so we set eps to be nonzero"
   ]
  },
  {
   "cell_type": "markdown",
   "metadata": {},
   "source": [
    "#### MU (Multiplicatsive Updates)"
   ]
  },
  {
   "cell_type": "code",
   "execution_count": 14,
   "metadata": {},
   "outputs": [
    {
     "name": "stdout",
     "output_type": "stream",
     "text": [
      "init: obj 41.18533858260692\n",
      "round 50: obj 41.083559468469765\n",
      "round 100: obj 41.034406290892186\n",
      "round 150: obj 41.01326375645623\n",
      "round 200: obj 40.99983925067989\n",
      "round 250: obj 40.99178036166448\n",
      "round 300: obj 40.986727741584886\n",
      "round 350: obj 40.983393118766706\n",
      "round 400: obj 40.981112600152244\n",
      "round 450: obj 40.979482512999574\n",
      "round 500: obj 40.97826645888894\n",
      "round 550: obj 40.977327125226644\n",
      "round 600: obj 40.97657800912874\n",
      "round 650: obj 40.97596428561111\n",
      "round 700: obj 40.97545110420362\n",
      "round 750: obj 40.97501523622918\n",
      "round 800: obj 40.97463947531677\n",
      "round 850: obj 40.97431176467013\n",
      "round 900: obj 40.97402440254642\n",
      "round 950: obj 40.97377084148396\n",
      "round 1000: obj 40.9735448572233\n"
     ]
    }
   ],
   "source": [
    "res_mu = klnmf.run_mu(V_orig, k, num_iter = 1000, num_print = 50)"
   ]
  },
  {
   "cell_type": "code",
   "execution_count": 15,
   "metadata": {},
   "outputs": [
    {
     "name": "stdout",
     "output_type": "stream",
     "text": [
      "init: obj 41.18533858260692\n",
      "round 50: obj 41.08410197867809\n",
      "round 100: obj 41.03458476462467\n",
      "round 150: obj 41.01342018632649\n",
      "round 200: obj 40.99999289928605\n",
      "round 250: obj 40.99192477018798\n",
      "round 300: obj 40.98688292425212\n",
      "round 350: obj 40.98355739716154\n",
      "round 400: obj 40.98128169635627\n",
      "round 450: obj 40.97965667512553\n",
      "round 500: obj 40.97844628510202\n",
      "round 550: obj 40.97751144059887\n",
      "round 600: obj 40.976765455402784\n",
      "round 650: obj 40.976153360106665\n",
      "round 700: obj 40.97564164789364\n",
      "round 750: obj 40.97520690437274\n",
      "round 800: obj 40.974831890421825\n",
      "round 850: obj 40.97450565499373\n",
      "round 900: obj 40.97421972777031\n",
      "round 950: obj 40.973966127783534\n",
      "round 1000: obj 40.97373804292444\n"
     ]
    }
   ],
   "source": [
    "res_mu_with_normalize = klnmf.run_mu_with_normalize(V_orig, k, num_iter = 1000, num_print = 50)"
   ]
  },
  {
   "cell_type": "code",
   "execution_count": 16,
   "metadata": {},
   "outputs": [],
   "source": [
    "# run_mu is running mu without rescaling every round\n",
    "# run_mu_with_normalize is running mu with rescaling every round\n",
    "# they are visually the same\n",
    "# however one is a little slower due to rescaling\n",
    "# the other is a little numerically instable\n",
    "# however for this example they are nearly identical"
   ]
  },
  {
   "cell_type": "markdown",
   "metadata": {},
   "source": [
    "#### SCIPI (Scale Invariant Power Iteration)"
   ]
  },
  {
   "cell_type": "code",
   "execution_count": 17,
   "metadata": {},
   "outputs": [],
   "source": [
    "# we have advanced version of SCIPI\n",
    "# please see the paper for advanced methods\n",
    "# but here we just run a plane method"
   ]
  },
  {
   "cell_type": "code",
   "execution_count": 18,
   "metadata": {},
   "outputs": [
    {
     "name": "stdout",
     "output_type": "stream",
     "text": [
      "init: obj 41.18533858260692\n",
      "round 50: obj 41.03500884008213\n",
      "round 100: obj 41.000114276841174\n",
      "round 150: obj 40.98694400320204\n",
      "round 200: obj 40.98133938666514\n",
      "round 250: obj 40.97850264998479\n",
      "round 300: obj 40.976818888974115\n",
      "round 350: obj 40.97569265991618\n",
      "round 400: obj 40.97488167505706\n",
      "round 450: obj 40.97426948047415\n",
      "round 500: obj 40.97378912638583\n",
      "round 550: obj 40.97339588798353\n",
      "round 600: obj 40.973067403626644\n",
      "round 650: obj 40.97278502206613\n",
      "round 700: obj 40.972533137172206\n",
      "round 750: obj 40.97231345917747\n",
      "round 800: obj 40.972121252023555\n",
      "round 850: obj 40.97195096661652\n",
      "round 900: obj 40.971796429121156\n",
      "round 950: obj 40.971656387707114\n",
      "round 1000: obj 40.971528518672194\n"
     ]
    }
   ],
   "source": [
    "res_scipi = klnmf.run_scipi(V_orig, k, num_iter = 1000, num_print = 50)"
   ]
  },
  {
   "cell_type": "code",
   "execution_count": 19,
   "metadata": {},
   "outputs": [],
   "source": [
    "# just for this example, here's the advanced scipi approach"
   ]
  },
  {
   "cell_type": "code",
   "execution_count": 20,
   "metadata": {},
   "outputs": [
    {
     "name": "stdout",
     "output_type": "stream",
     "text": [
      "init: obj 41.18533858260692\n",
      "round 50: obj 41.00469279967758\n",
      "round 100: obj 40.98291080094088\n",
      "round 150: obj 40.977593307711665\n",
      "round 200: obj 40.975371906724874\n",
      "round 250: obj 40.97413414240629\n",
      "round 300: obj 40.97334204779822\n",
      "round 350: obj 40.97277390604017\n",
      "round 400: obj 40.9723329033805\n",
      "round 450: obj 40.97199082857274\n",
      "round 500: obj 40.971708734580844\n",
      "round 550: obj 40.971473024372486\n",
      "round 600: obj 40.97127360584326\n",
      "round 650: obj 40.97110299810493\n",
      "round 700: obj 40.9709509401032\n",
      "round 750: obj 40.970816837239035\n",
      "round 800: obj 40.97070466248694\n",
      "round 850: obj 40.97060952261787\n",
      "round 900: obj 40.97052829503507\n",
      "round 950: obj 40.97045214803494\n",
      "round 1000: obj 40.97038257210512\n"
     ]
    }
   ],
   "source": [
    "res_scipi_acc = klnmf.run_scipi_acc(V_orig, k, num_inner = 2, intercept = 0.1, num_iter = 1000, num_print = 50)"
   ]
  },
  {
   "cell_type": "markdown",
   "metadata": {},
   "source": [
    "#### PGD (Projected Gradient Descent)"
   ]
  },
  {
   "cell_type": "code",
   "execution_count": 22,
   "metadata": {},
   "outputs": [],
   "source": [
    "# lots of papers about projection onto the simplex\n",
    "# e.g.\n",
    "# https://arxiv.org/pdf/1101.6081.pdf\n",
    "# https://math.stackexchange.com/questions/3778014/matlab-python-euclidean-projection-on-the-simplex-why-is-my-code-wrong\n",
    "# https://stanford.edu/~jduchi/projects/DuchiShSiCh08.html\n",
    "# https://link.springer.com/article/10.1007/s10107-015-0946-6\n",
    "# https://gist.github.com/mblondel/6f3b7aaad90606b98f71"
   ]
  },
  {
   "cell_type": "code",
   "execution_count": 23,
   "metadata": {},
   "outputs": [],
   "source": [
    "# we choose the fastest one here among the above"
   ]
  },
  {
   "cell_type": "code",
   "execution_count": 24,
   "metadata": {},
   "outputs": [
    {
     "name": "stdout",
     "output_type": "stream",
     "text": [
      "init: obj 41.18533858260692\n",
      "round 50: obj 41.0349168773927\n",
      "round 100: obj 41.00000666001572\n",
      "round 150: obj 40.98680904255436\n",
      "round 200: obj 40.9811850882095\n",
      "round 250: obj 40.97833377160699\n",
      "round 300: obj 40.97664030927893\n",
      "round 350: obj 40.97551080708172\n",
      "round 400: obj 40.97469791896701\n",
      "round 450: obj 40.974083225118456\n",
      "round 500: obj 40.97360481528682\n",
      "round 550: obj 40.97321802767355\n",
      "round 600: obj 40.972893817348094\n",
      "round 650: obj 40.97262000272156\n",
      "round 700: obj 40.97238337933514\n",
      "round 750: obj 40.97217399111044\n",
      "round 800: obj 40.97199343808836\n",
      "round 850: obj 40.97183294331585\n",
      "round 900: obj 40.971691980750734\n",
      "round 950: obj 40.97156584509452\n",
      "round 1000: obj 40.971450523350484\n"
     ]
    }
   ],
   "source": [
    "res_pgd = klnmf.run_pgd(V_orig, k, stepsize = 2.0, num_iter = 1000, num_print = 50)"
   ]
  },
  {
   "cell_type": "code",
   "execution_count": 25,
   "metadata": {},
   "outputs": [],
   "source": [
    "# stepsize 2.0 seems faster in early rounds but slower in later rounds"
   ]
  },
  {
   "cell_type": "code",
   "execution_count": 26,
   "metadata": {},
   "outputs": [
    {
     "name": "stdout",
     "output_type": "stream",
     "text": [
      "init: obj 41.18533858260692\n",
      "round 50: obj 41.05190413527297\n",
      "round 100: obj 41.013362252394806\n",
      "round 150: obj 40.99532502881657\n",
      "round 200: obj 40.98672478763575\n",
      "round 250: obj 40.982143871134305\n",
      "round 300: obj 40.97947364800794\n",
      "round 350: obj 40.97775727823686\n",
      "round 400: obj 40.97656518829914\n",
      "round 450: obj 40.97568287521526\n",
      "round 500: obj 40.97500079698912\n",
      "round 550: obj 40.974455507711\n",
      "round 600: obj 40.974010023263695\n",
      "round 650: obj 40.97364079190787\n",
      "round 700: obj 40.97332842284599\n",
      "round 750: obj 40.97305785905876\n",
      "round 800: obj 40.97281900853292\n",
      "round 850: obj 40.97260872122694\n",
      "round 900: obj 40.97242156501554\n",
      "round 950: obj 40.97224980061771\n",
      "round 1000: obj 40.97209624266008\n"
     ]
    }
   ],
   "source": [
    "res_pgd2 = klnmf.run_pgd(V_orig, k, stepsize = 1.5, num_iter = 1000, num_print = 50)"
   ]
  },
  {
   "cell_type": "code",
   "execution_count": 27,
   "metadata": {},
   "outputs": [],
   "source": [
    "# stepsize > 2.1 will output NaN error because stepsize is too large"
   ]
  },
  {
   "cell_type": "code",
   "execution_count": 28,
   "metadata": {},
   "outputs": [
    {
     "name": "stdout",
     "output_type": "stream",
     "text": [
      "init: obj 41.18533858260692\n",
      "round 50: obj nan\n"
     ]
    },
    {
     "name": "stderr",
     "output_type": "stream",
     "text": [
      "C:\\Users\\bions\\Desktop\\git\\SCIPI-JMLR\\notebooks\\..\\src\\klnmf.py:281: RuntimeWarning: divide by zero encountered in divide\n",
      "  A = V / (W @ H)\n",
      "C:\\Users\\bions\\Desktop\\git\\SCIPI-JMLR\\notebooks\\..\\src\\klnmf.py:282: RuntimeWarning: invalid value encountered in matmul\n",
      "  W = W + (A @ H.T - H.sum(axis = 1, keepdims = True).T) * W / H.sum(axis = 1, keepdims = True).T * stepsize\n"
     ]
    }
   ],
   "source": [
    "res_pgd3 = klnmf.run_pgd(V_orig, k, stepsize = 2.1, num_iter = 50, num_print = 50)"
   ]
  },
  {
   "cell_type": "code",
   "execution_count": 29,
   "metadata": {},
   "outputs": [],
   "source": [
    "# too slow\n",
    "# and too bad\n",
    "# this type of problems are not good with line search\n",
    "# didn't run below"
   ]
  },
  {
   "cell_type": "code",
   "execution_count": 30,
   "metadata": {},
   "outputs": [
    {
     "name": "stdout",
     "output_type": "stream",
     "text": [
      "init: obj 41.17668414246275\n",
      "round 50: obj 41.1775326644039\n",
      "round 100: obj 41.17825171865389\n",
      "round 150: obj 41.17884248032172\n",
      "round 200: obj 41.1793223900724\n",
      "round 250: obj 41.17970655934998\n",
      "round 300: obj 41.18000807814909\n",
      "round 350: obj 41.18023828267752\n",
      "round 400: obj 41.180406988032004\n",
      "round 450: obj 41.18052269037567\n",
      "round 500: obj 41.180592742546274\n",
      "round 550: obj 41.18062350653141\n",
      "round 600: obj 41.180620485812874\n",
      "round 650: obj 41.18058844020157\n",
      "round 700: obj 41.18053148544967\n",
      "round 750: obj 41.18045317963385\n",
      "round 800: obj 41.180356598046515\n",
      "round 850: obj 41.18024439810787\n",
      "round 900: obj 41.18011887561521\n",
      "round 950: obj 41.17998201347474\n",
      "round 1000: obj 41.1798355239116\n"
     ]
    }
   ],
   "source": [
    "res_pgd_with_linesearch = klnmf.run_pgd_with_linesearch_for_sparse(V_orig, k, num_iter = 1000, num_print = 50)"
   ]
  }
 ],
 "metadata": {
  "kernelspec": {
   "display_name": "Python 3 (ipykernel)",
   "language": "python",
   "name": "python3"
  },
  "language_info": {
   "codemirror_mode": {
    "name": "ipython",
    "version": 3
   },
   "file_extension": ".py",
   "mimetype": "text/x-python",
   "name": "python",
   "nbconvert_exporter": "python",
   "pygments_lexer": "ipython3",
   "version": "3.11.1"
  }
 },
 "nbformat": 4,
 "nbformat_minor": 4
}
