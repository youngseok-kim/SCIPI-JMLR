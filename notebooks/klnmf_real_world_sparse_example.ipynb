{
 "cells": [
  {
   "cell_type": "markdown",
   "metadata": {},
   "source": [
    "# KL divergence NMF (KLNMF) SCIPI"
   ]
  },
  {
   "cell_type": "markdown",
   "metadata": {},
   "source": [
    "## Example: real data"
   ]
  },
  {
   "cell_type": "code",
   "execution_count": 1,
   "metadata": {},
   "outputs": [],
   "source": [
    "# We will use docword kos"
   ]
  },
  {
   "cell_type": "markdown",
   "metadata": {},
   "source": [
    "### Load Libraries"
   ]
  },
  {
   "cell_type": "code",
   "execution_count": 2,
   "metadata": {},
   "outputs": [],
   "source": [
    "import numpy as np\n",
    "import pandas as pd\n",
    "import matplotlib.pyplot as plt\n",
    "import time"
   ]
  },
  {
   "cell_type": "markdown",
   "metadata": {},
   "source": [
    "### Load Sourcecode"
   ]
  },
  {
   "cell_type": "code",
   "execution_count": 3,
   "metadata": {},
   "outputs": [
    {
     "data": {
      "text/plain": [
       "<module 'klnmf' from 'C:\\\\Users\\\\bions\\\\Desktop\\\\git\\\\SCIPI-JMLR\\\\notebooks\\\\..\\\\src\\\\klnmf.py'>"
      ]
     },
     "execution_count": 3,
     "metadata": {},
     "output_type": "execute_result"
    }
   ],
   "source": [
    "import sys, os\n",
    "sys.path.append(os.path.join(os.path.dirname(sys.argv[1]), '..', 'src'))\n",
    "import klnmf\n",
    "import importlib\n",
    "importlib.reload(klnmf)"
   ]
  },
  {
   "cell_type": "markdown",
   "metadata": {},
   "source": [
    "### Set Random Seed"
   ]
  },
  {
   "cell_type": "code",
   "execution_count": 4,
   "metadata": {},
   "outputs": [
    {
     "name": "stdout",
     "output_type": "stream",
     "text": [
      "our seed is 20231019\n"
     ]
    }
   ],
   "source": [
    "today_num = int(pd.Timestamp.today().date().strftime(\"%Y%m%d\"))\n",
    "offset = 0\n",
    "print(f\"our seed is {today_num + offset}\")\n",
    "np.random.seed(today_num + offset)"
   ]
  },
  {
   "cell_type": "markdown",
   "metadata": {},
   "source": [
    "### Read data"
   ]
  },
  {
   "cell_type": "code",
   "execution_count": 5,
   "metadata": {},
   "outputs": [],
   "source": [
    "# you need to remove the first 3 lines from docword.kos\n",
    "# those lines have this metadata info\n",
    "n = 3430\n",
    "m = 6906\n",
    "e = 353160"
   ]
  },
  {
   "cell_type": "code",
   "execution_count": 6,
   "metadata": {},
   "outputs": [],
   "source": [
    "# we put data here\n",
    "# this is out of scope of this github\n",
    "# just not to violate data licence issue\n",
    "\n",
    "V_raw = pd.read_table(\"../../docword.kos.txt\", header = None, sep = \" \")"
   ]
  },
  {
   "cell_type": "code",
   "execution_count": 7,
   "metadata": {},
   "outputs": [
    {
     "data": {
      "text/html": [
       "<div>\n",
       "<style scoped>\n",
       "    .dataframe tbody tr th:only-of-type {\n",
       "        vertical-align: middle;\n",
       "    }\n",
       "\n",
       "    .dataframe tbody tr th {\n",
       "        vertical-align: top;\n",
       "    }\n",
       "\n",
       "    .dataframe thead th {\n",
       "        text-align: right;\n",
       "    }\n",
       "</style>\n",
       "<table border=\"1\" class=\"dataframe\">\n",
       "  <thead>\n",
       "    <tr style=\"text-align: right;\">\n",
       "      <th></th>\n",
       "      <th>0</th>\n",
       "      <th>1</th>\n",
       "      <th>2</th>\n",
       "    </tr>\n",
       "  </thead>\n",
       "  <tbody>\n",
       "    <tr>\n",
       "      <th>0</th>\n",
       "      <td>1</td>\n",
       "      <td>61</td>\n",
       "      <td>2</td>\n",
       "    </tr>\n",
       "    <tr>\n",
       "      <th>1</th>\n",
       "      <td>1</td>\n",
       "      <td>76</td>\n",
       "      <td>1</td>\n",
       "    </tr>\n",
       "    <tr>\n",
       "      <th>2</th>\n",
       "      <td>1</td>\n",
       "      <td>89</td>\n",
       "      <td>1</td>\n",
       "    </tr>\n",
       "    <tr>\n",
       "      <th>3</th>\n",
       "      <td>1</td>\n",
       "      <td>211</td>\n",
       "      <td>1</td>\n",
       "    </tr>\n",
       "    <tr>\n",
       "      <th>4</th>\n",
       "      <td>1</td>\n",
       "      <td>296</td>\n",
       "      <td>1</td>\n",
       "    </tr>\n",
       "  </tbody>\n",
       "</table>\n",
       "</div>"
      ],
      "text/plain": [
       "   0    1  2\n",
       "0  1   61  2\n",
       "1  1   76  1\n",
       "2  1   89  1\n",
       "3  1  211  1\n",
       "4  1  296  1"
      ]
     },
     "execution_count": 7,
     "metadata": {},
     "output_type": "execute_result"
    }
   ],
   "source": [
    "V_raw.head()"
   ]
  },
  {
   "cell_type": "markdown",
   "metadata": {},
   "source": [
    "### Set Size"
   ]
  },
  {
   "cell_type": "code",
   "execution_count": 8,
   "metadata": {},
   "outputs": [],
   "source": [
    "k = 20\n",
    "our_dtype = 'float32'\n",
    "\n",
    "V_orig = np.zeros((n,m))\n",
    "for i in range(len(V_raw)):\n",
    "    V_orig[V_raw[0][i] - 1, V_raw[1][i] - 1] = V_raw[2][i]\n",
    "\n",
    "V_orig = V_orig / V_orig.sum().sum() * k"
   ]
  },
  {
   "cell_type": "code",
   "execution_count": 9,
   "metadata": {},
   "outputs": [],
   "source": [
    "# We resize the scale of V_orig.\n",
    "# This is not requirede but to ease the objective calculation.\n",
    "# V_orig is our target matrix to be decomposed"
   ]
  },
  {
   "cell_type": "code",
   "execution_count": 10,
   "metadata": {},
   "outputs": [
    {
     "name": "stdout",
     "output_type": "stream",
     "text": [
      "size of V: (3430, 6906)\n"
     ]
    }
   ],
   "source": [
    "print(f\"size of V: {V_orig.shape}\")"
   ]
  },
  {
   "cell_type": "markdown",
   "metadata": {},
   "source": [
    "### Our matrix to be decomposed"
   ]
  },
  {
   "cell_type": "code",
   "execution_count": 11,
   "metadata": {},
   "outputs": [],
   "source": [
    "# make sure data is non-degenerate\n",
    "V_save = V_orig.copy()"
   ]
  },
  {
   "cell_type": "code",
   "execution_count": 12,
   "metadata": {},
   "outputs": [
    {
     "data": {
      "text/plain": [
       "array([2.56567047e-04, 2.56567047e-04, 2.56567047e-04, ...,\n",
       "       1.61680001e-01, 2.00079536e-01, 2.89963525e-01])"
      ]
     },
     "execution_count": 12,
     "metadata": {},
     "output_type": "execute_result"
    }
   ],
   "source": [
    "np.sort(V_save.sum(axis = 0))"
   ]
  },
  {
   "cell_type": "code",
   "execution_count": 13,
   "metadata": {},
   "outputs": [
    {
     "data": {
      "text/plain": [
       "array([0.00106903, 0.00106903, 0.00106903, ..., 0.0275382 , 0.0275382 ,\n",
       "       0.02864999])"
      ]
     },
     "execution_count": 13,
     "metadata": {},
     "output_type": "execute_result"
    }
   ],
   "source": [
    "np.sort(V_save.sum(axis = 1))"
   ]
  },
  {
   "cell_type": "code",
   "execution_count": 14,
   "metadata": {},
   "outputs": [],
   "source": [
    "V_orig = V_save.copy()"
   ]
  },
  {
   "cell_type": "markdown",
   "metadata": {},
   "source": [
    "### Initialization"
   ]
  },
  {
   "cell_type": "code",
   "execution_count": 15,
   "metadata": {},
   "outputs": [],
   "source": [
    "W_mat, H_mat, A_mat = klnmf.init_klnmf(V_orig, k, seed = 1, our_dtype = our_dtype)"
   ]
  },
  {
   "cell_type": "code",
   "execution_count": 16,
   "metadata": {},
   "outputs": [],
   "source": [
    "# we will use the same initialization for all the method\n",
    "# the above function `init_klnmf` provies 1-step MU initialization from random matrix\n",
    "# please see the manuscript for details"
   ]
  },
  {
   "cell_type": "markdown",
   "metadata": {},
   "source": [
    "### Run Methods"
   ]
  },
  {
   "cell_type": "code",
   "execution_count": 17,
   "metadata": {},
   "outputs": [],
   "source": [
    "# note that we need a sparse version of each method\n",
    "# we need to compute this\n",
    "# A = V / (W @ H + eps)\n",
    "# However W @ H can be 0 and regardless of V we have NaNs\n",
    "# so we set eps to be nonzero"
   ]
  },
  {
   "cell_type": "markdown",
   "metadata": {},
   "source": [
    "#### MU (Multiplicatsive Updates)"
   ]
  },
  {
   "cell_type": "code",
   "execution_count": 18,
   "metadata": {},
   "outputs": [
    {
     "name": "stdout",
     "output_type": "stream",
     "text": [
      "init: obj 104.1648424260748\n",
      "round 5: obj 102.35649550863323\n",
      "round 10: obj 95.20451348676059\n",
      "round 15: obj 92.26192865551369\n",
      "round 20: obj 90.99631439561327\n",
      "round 25: obj 90.3795607579676\n",
      "round 30: obj 90.03510638254485\n",
      "round 35: obj 89.81744029260837\n",
      "round 40: obj 89.66069631986763\n",
      "round 45: obj 89.53531368924601\n",
      "round 50: obj 89.4424599107308\n",
      "round 55: obj 89.36884496146712\n",
      "round 60: obj 89.31026681043343\n",
      "round 65: obj 89.26579154448441\n",
      "round 70: obj 89.23120426117708\n",
      "round 75: obj 89.20229119520943\n",
      "round 80: obj 89.17790023243093\n",
      "round 85: obj 89.15760623174432\n",
      "round 90: obj 89.14114867124131\n",
      "round 95: obj 89.12682622163035\n",
      "round 100: obj 89.11220172723142\n"
     ]
    }
   ],
   "source": [
    "res_mu = klnmf.run_mu(V_orig, k, num_iter = 100, num_print = 5)"
   ]
  },
  {
   "cell_type": "code",
   "execution_count": 19,
   "metadata": {},
   "outputs": [
    {
     "name": "stdout",
     "output_type": "stream",
     "text": [
      "init: obj 103.93893879314088\n",
      "round 5: obj 102.36013922668374\n",
      "round 10: obj 95.18087539273466\n",
      "round 15: obj 92.24503787627327\n",
      "round 20: obj 90.98396590914665\n",
      "round 25: obj 90.36672694289098\n",
      "round 30: obj 90.02217198205821\n",
      "round 35: obj 89.80417126914043\n",
      "round 40: obj 89.6454914818979\n",
      "round 45: obj 89.52098934353793\n",
      "round 50: obj 89.42922281146858\n",
      "round 55: obj 89.35431926283644\n",
      "round 60: obj 89.29743800195284\n",
      "round 65: obj 89.25477351393879\n",
      "round 70: obj 89.2207740885699\n",
      "round 75: obj 89.19244923515514\n",
      "round 80: obj 89.16882139874292\n",
      "round 85: obj 89.15011813668727\n",
      "round 90: obj 89.1326804766905\n",
      "round 95: obj 89.11609832349848\n",
      "round 100: obj 89.10294497258613\n"
     ]
    }
   ],
   "source": [
    "res_mu = klnmf.run_mu_for_sparse(V_orig, k, num_iter = 100, num_print = 5)"
   ]
  },
  {
   "cell_type": "code",
   "execution_count": 20,
   "metadata": {},
   "outputs": [
    {
     "name": "stdout",
     "output_type": "stream",
     "text": [
      "init: obj 104.1648424260748\n",
      "round 5: obj 102.36577346105295\n",
      "round 10: obj 95.31634242397286\n",
      "round 15: obj 92.36458342566891\n",
      "round 20: obj 91.06482753644296\n",
      "round 25: obj 90.45403902647729\n",
      "round 30: obj 90.13233925600784\n",
      "round 35: obj 89.92916949695328\n",
      "round 40: obj 89.79381371520108\n",
      "round 45: obj 89.69766283482755\n",
      "round 50: obj 89.62378542315531\n",
      "round 55: obj 89.56398522070097\n",
      "round 60: obj 89.51324326291197\n",
      "round 65: obj 89.4665539884792\n",
      "round 70: obj 89.42643029118169\n",
      "round 75: obj 89.39167402483193\n",
      "round 80: obj 89.36035478546364\n",
      "round 85: obj 89.33353520111416\n",
      "round 90: obj 89.31092446365781\n",
      "round 95: obj 89.29077936889264\n",
      "round 100: obj 89.27287077131763\n"
     ]
    }
   ],
   "source": [
    "res_mu_with_normalize = klnmf.run_mu_with_normalize(V_orig, k, num_iter = 100, num_print = 5)"
   ]
  },
  {
   "cell_type": "code",
   "execution_count": 21,
   "metadata": {},
   "outputs": [],
   "source": [
    "# run_mu is running mu without rescaling every round\n",
    "# run_mu_with_normalize is running mu with rescaling every round\n",
    "# they are visually the same\n",
    "# however one is a little slower due to rescaling\n",
    "# the other is a little numerically instable\n",
    "# however for this example they are nearly identical"
   ]
  },
  {
   "cell_type": "markdown",
   "metadata": {},
   "source": [
    "#### SCIPI (Scale Invariant Power Iteration)"
   ]
  },
  {
   "cell_type": "code",
   "execution_count": 22,
   "metadata": {},
   "outputs": [],
   "source": [
    "# we have advanced version of SCIPI\n",
    "# please see the paper for advanced methods\n",
    "# but here we just run a plane method"
   ]
  },
  {
   "cell_type": "code",
   "execution_count": 23,
   "metadata": {},
   "outputs": [
    {
     "name": "stdout",
     "output_type": "stream",
     "text": [
      "init: obj 103.93893879314088\n",
      "round 5: obj 96.33588741276958\n",
      "round 10: obj 90.91033657956915\n",
      "round 15: obj 89.89935522733734\n",
      "round 20: obj 89.54812812810434\n",
      "round 25: obj 89.38203713074503\n",
      "round 30: obj 89.28401527224261\n",
      "round 35: obj 89.2223408548987\n",
      "round 40: obj 89.17955128938172\n",
      "round 45: obj 89.15133916199065\n",
      "round 50: obj 89.12833442791998\n",
      "round 55: obj 89.10957436434082\n",
      "round 60: obj 89.09355528124213\n",
      "round 65: obj 89.08062743635554\n",
      "round 70: obj 89.06981155290626\n",
      "round 75: obj 89.05991531869577\n",
      "round 80: obj 89.05186092383244\n",
      "round 85: obj 89.04504669559853\n",
      "round 90: obj 89.03772237827468\n",
      "round 95: obj 89.03244195800912\n",
      "round 100: obj 89.02733702772446\n"
     ]
    }
   ],
   "source": [
    "res_scipi = klnmf.run_scipi_for_sparse(V_orig, k, num_iter = 100, num_print = 5)"
   ]
  },
  {
   "cell_type": "code",
   "execution_count": 24,
   "metadata": {},
   "outputs": [],
   "source": [
    "# just for this example, here's the advanced scipi approach"
   ]
  },
  {
   "cell_type": "code",
   "execution_count": 25,
   "metadata": {},
   "outputs": [
    {
     "name": "stdout",
     "output_type": "stream",
     "text": [
      "init: obj 103.93893879314088\n",
      "round 5: obj 92.56389935177882\n",
      "round 10: obj 89.95523545440545\n",
      "round 15: obj 89.48404768293821\n",
      "round 20: obj 89.307165476845\n",
      "round 25: obj 89.2160975872547\n",
      "round 30: obj 89.15627813137752\n",
      "round 35: obj 89.12159012995241\n",
      "round 40: obj 89.09277866175583\n",
      "round 45: obj 89.07502361993073\n",
      "round 50: obj 89.06120186031109\n",
      "round 55: obj 89.04783783690918\n",
      "round 60: obj 89.03692406855879\n",
      "round 65: obj 89.0254545173009\n",
      "round 70: obj 89.01558573001992\n",
      "round 75: obj 89.00814274084578\n",
      "round 80: obj 89.00325809217208\n",
      "round 85: obj 88.99816272611967\n",
      "round 90: obj 88.99333232926105\n",
      "round 95: obj 88.98829941972151\n",
      "round 100: obj 88.98349110326761\n"
     ]
    }
   ],
   "source": [
    "res_scipi_acc = klnmf.run_scipi_acc_for_sparse(V_orig, k, num_inner = 2, intercept = 0.1, num_iter = 100, num_print = 5)"
   ]
  },
  {
   "cell_type": "code",
   "execution_count": 26,
   "metadata": {},
   "outputs": [],
   "source": [
    "# note that we implemented run_scipi_for_sparse\n",
    "# instead of run_scipi\n",
    "# this will affect the objective function values\n",
    "# but just a little"
   ]
  },
  {
   "cell_type": "markdown",
   "metadata": {},
   "source": [
    "#### PGD (Projected Gradient Descent)"
   ]
  },
  {
   "cell_type": "code",
   "execution_count": 27,
   "metadata": {},
   "outputs": [],
   "source": [
    "# lots of papers about projection onto the simplex\n",
    "# e.g.\n",
    "# https://arxiv.org/pdf/1101.6081.pdf\n",
    "# https://math.stackexchange.com/questions/3778014/matlab-python-euclidean-projection-on-the-simplex-why-is-my-code-wrong\n",
    "# https://stanford.edu/~jduchi/projects/DuchiShSiCh08.html\n",
    "# https://link.springer.com/article/10.1007/s10107-015-0946-6\n",
    "# https://gist.github.com/mblondel/6f3b7aaad90606b98f71"
   ]
  },
  {
   "cell_type": "code",
   "execution_count": null,
   "metadata": {},
   "outputs": [],
   "source": []
  },
  {
   "cell_type": "code",
   "execution_count": 28,
   "metadata": {},
   "outputs": [],
   "source": [
    "# we choose the fastest one here among the above"
   ]
  },
  {
   "cell_type": "code",
   "execution_count": 29,
   "metadata": {},
   "outputs": [
    {
     "name": "stdout",
     "output_type": "stream",
     "text": [
      "init: obj 104.1648424260748\n",
      "round 5: obj 102.35649550863323\n",
      "round 10: obj 95.20451348676059\n",
      "round 15: obj 92.26192865551369\n",
      "round 20: obj 90.99631439561327\n",
      "round 25: obj 90.37956075796758\n",
      "round 30: obj 90.03510638254485\n",
      "round 35: obj 89.81744029260838\n",
      "round 40: obj 89.66069631986763\n",
      "round 45: obj 89.53531368924601\n",
      "round 50: obj 89.44245991073082\n",
      "round 55: obj 89.36884496146712\n",
      "round 60: obj 89.31026681043343\n",
      "round 65: obj 89.26579154448441\n",
      "round 70: obj 89.23120426117708\n",
      "round 75: obj 89.20229119520943\n",
      "round 80: obj 89.17790023243093\n",
      "round 85: obj 89.15760623174432\n",
      "round 90: obj 89.1411486712413\n",
      "round 95: obj 89.12682622163035\n",
      "round 100: obj 89.11220172723142\n"
     ]
    }
   ],
   "source": [
    "res_pgd = klnmf.run_pgd(V_orig, k, stepsize = 1.0, num_iter = 100, num_print = 5)"
   ]
  },
  {
   "cell_type": "code",
   "execution_count": 30,
   "metadata": {},
   "outputs": [
    {
     "name": "stdout",
     "output_type": "stream",
     "text": [
      "init: obj 103.93893879314088\n",
      "round 5: obj 102.36013922668374\n",
      "round 10: obj 95.18087539273466\n",
      "round 15: obj 92.24503787627327\n",
      "round 20: obj 90.98396590914665\n",
      "round 25: obj 90.36672694289098\n",
      "round 30: obj 90.02217198205821\n",
      "round 35: obj 89.80417126914043\n",
      "round 40: obj 89.6454914818979\n",
      "round 45: obj 89.52098934353795\n",
      "round 50: obj 89.42922281146858\n",
      "round 55: obj 89.35431926283644\n",
      "round 60: obj 89.29743800195286\n",
      "round 65: obj 89.25477351393879\n",
      "round 70: obj 89.22077408856993\n",
      "round 75: obj 89.19244923515514\n",
      "round 80: obj 89.16882139874292\n",
      "round 85: obj 89.15011813668727\n",
      "round 90: obj 89.1326804766905\n",
      "round 95: obj 89.11609832349848\n",
      "round 100: obj 89.10294497258613\n"
     ]
    }
   ],
   "source": [
    "res_pgd2 = klnmf.run_pgd_for_sparse(V_orig, k, stepsize = 1.0, num_iter = 100, num_print = 5)"
   ]
  },
  {
   "cell_type": "code",
   "execution_count": 31,
   "metadata": {},
   "outputs": [],
   "source": [
    "# stepsize 1.5 seems faster in early rounds but slower in later rounds\n",
    "# stepsize 1.0 converges much faster lately"
   ]
  },
  {
   "cell_type": "code",
   "execution_count": 32,
   "metadata": {},
   "outputs": [
    {
     "name": "stdout",
     "output_type": "stream",
     "text": [
      "init: obj 103.93893879314088\n",
      "round 5: obj 99.57478940682002\n",
      "round 10: obj 92.47801425725963\n",
      "round 15: obj 90.82070686116568\n",
      "round 20: obj 90.16177366196804\n",
      "round 25: obj 89.81703557585527\n",
      "round 30: obj 89.62609434944474\n",
      "round 35: obj 89.50417330135966\n",
      "round 40: obj 89.4236851234761\n",
      "round 45: obj 89.36473886342806\n",
      "round 50: obj 89.31975391075383\n",
      "round 55: obj 89.28848026586115\n",
      "round 60: obj 89.2632127519097\n",
      "round 65: obj 89.24425942751637\n",
      "round 70: obj 89.22988935734726\n",
      "round 75: obj 89.21819849882596\n",
      "round 80: obj 89.20795867209034\n",
      "round 85: obj 89.19834472364936\n",
      "round 90: obj 89.19001661279853\n",
      "round 95: obj 89.18271939127223\n",
      "round 100: obj 89.17593682857523\n"
     ]
    }
   ],
   "source": [
    "res_pgd3 = klnmf.run_pgd_for_sparse(V_orig, k, stepsize = 1.5, num_iter = 100, num_print = 5)"
   ]
  },
  {
   "cell_type": "code",
   "execution_count": 33,
   "metadata": {},
   "outputs": [],
   "source": [
    "# stepsize 0.8 seems slower in early rounds\n",
    "# stepsize 1.0 converges faster anyways"
   ]
  },
  {
   "cell_type": "code",
   "execution_count": 34,
   "metadata": {},
   "outputs": [
    {
     "name": "stdout",
     "output_type": "stream",
     "text": [
      "init: obj 103.93893879314088\n",
      "round 5: obj 103.0060956219129\n",
      "round 10: obj 97.27713181924415\n",
      "round 15: obj 93.53326973074937\n",
      "round 20: obj 91.82855126451479\n",
      "round 25: obj 90.93434380924438\n",
      "round 30: obj 90.4266742147492\n",
      "round 35: obj 90.11482873593499\n",
      "round 40: obj 89.90299253985711\n",
      "round 45: obj 89.75006160535534\n",
      "round 50: obj 89.62664801659491\n",
      "round 55: obj 89.52563855510328\n",
      "round 60: obj 89.44587361155786\n",
      "round 65: obj 89.38045055355948\n",
      "round 70: obj 89.32523456095976\n",
      "round 75: obj 89.28303405881096\n",
      "round 80: obj 89.24950619104612\n",
      "round 85: obj 89.22102561636459\n",
      "round 90: obj 89.19711469109961\n",
      "round 95: obj 89.17543194362048\n",
      "round 100: obj 89.15597757956819\n"
     ]
    }
   ],
   "source": [
    "res_pgd4 = klnmf.run_pgd_for_sparse(V_orig, k, stepsize = 0.8, num_iter = 100, num_print = 5)"
   ]
  },
  {
   "cell_type": "code",
   "execution_count": 35,
   "metadata": {},
   "outputs": [],
   "source": [
    "# too slow\n",
    "# didn't run below"
   ]
  },
  {
   "cell_type": "code",
   "execution_count": 36,
   "metadata": {},
   "outputs": [],
   "source": [
    "# res_pgd_with_linesearch = klnmf.run_pgd_with_linesearch_for_sparse(V_orig, k, num_iter = 100, num_print = 5)"
   ]
  }
 ],
 "metadata": {
  "kernelspec": {
   "display_name": "Python 3 (ipykernel)",
   "language": "python",
   "name": "python3"
  },
  "language_info": {
   "codemirror_mode": {
    "name": "ipython",
    "version": 3
   },
   "file_extension": ".py",
   "mimetype": "text/x-python",
   "name": "python",
   "nbconvert_exporter": "python",
   "pygments_lexer": "ipython3",
   "version": "3.11.1"
  }
 },
 "nbformat": 4,
 "nbformat_minor": 4
}
