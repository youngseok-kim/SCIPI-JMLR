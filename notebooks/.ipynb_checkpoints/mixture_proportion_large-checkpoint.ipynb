{
 "cells": [
  {
   "cell_type": "markdown",
   "metadata": {},
   "source": [
    "# Estimation of Mixture Proportions SCIPI"
   ]
  },
  {
   "cell_type": "markdown",
   "metadata": {},
   "source": [
    "## Introduction"
   ]
  },
  {
   "cell_type": "markdown",
   "metadata": {},
   "source": [
    "This notebook is to provide a runnable example of SCIPI in python3."
   ]
  },
  {
   "cell_type": "markdown",
   "metadata": {},
   "source": [
    "We first talk about the data set. $L$ is a matrix of size $n\\times m$ with $n=2000$ and $m = 200$.\n",
    "For convenience, we will call it \"large\" data set."
   ]
  },
  {
   "cell_type": "code",
   "execution_count": 1,
   "metadata": {},
   "outputs": [],
   "source": [
    "# the data set is from Kim (2018)\n",
    "# https://arxiv.org/abs/1806.01412\n",
    "# https://cran.r-project.org/web/packages/mixsqp/index.html"
   ]
  },
  {
   "cell_type": "markdown",
   "metadata": {},
   "source": [
    "## Example: larger size data"
   ]
  },
  {
   "cell_type": "markdown",
   "metadata": {},
   "source": [
    "### Load Libraries"
   ]
  },
  {
   "cell_type": "code",
   "execution_count": 2,
   "metadata": {},
   "outputs": [],
   "source": [
    "import numpy as np\n",
    "import pandas as pd\n",
    "import matplotlib.pyplot as plt\n",
    "import time"
   ]
  },
  {
   "cell_type": "markdown",
   "metadata": {},
   "source": [
    "### Load Sourcecode"
   ]
  },
  {
   "cell_type": "code",
   "execution_count": 3,
   "metadata": {},
   "outputs": [],
   "source": [
    "import sys, os\n",
    "sys.path.append(os.path.join(os.path.dirname(sys.argv[1]), '..', 'src'))"
   ]
  },
  {
   "cell_type": "code",
   "execution_count": 4,
   "metadata": {},
   "outputs": [],
   "source": [
    "import mixprop"
   ]
  },
  {
   "cell_type": "markdown",
   "metadata": {},
   "source": [
    "### Set Random Seed"
   ]
  },
  {
   "cell_type": "code",
   "execution_count": 5,
   "metadata": {},
   "outputs": [
    {
     "name": "stdout",
     "output_type": "stream",
     "text": [
      "our seed is 20230906\n"
     ]
    }
   ],
   "source": [
    "today_num = int(pd.Timestamp.today().date().strftime(\"%Y%m%d\"))\n",
    "offset = 0\n",
    "print(f\"our seed is {today_num + offset}\")\n",
    "np.random.seed(today_num + offset)"
   ]
  },
  {
   "cell_type": "code",
   "execution_count": null,
   "metadata": {},
   "outputs": [],
   "source": [
    "np.random.seed(20230906)"
   ]
  },
  {
   "cell_type": "markdown",
   "metadata": {},
   "source": [
    "### Set Size"
   ]
  },
  {
   "cell_type": "markdown",
   "metadata": {},
   "source": [
    "We will read the data using relative path"
   ]
  },
  {
   "cell_type": "code",
   "execution_count": 6,
   "metadata": {},
   "outputs": [
    {
     "name": "stdout",
     "output_type": "stream",
     "text": [
      "(2000, 200)\n"
     ]
    }
   ],
   "source": [
    "our_dtype = 'float32'\n",
    "L = pd.read_csv(\"../data/manuscript-simdata-n=2000-m=200.csv\").iloc[:,1:]\n",
    "n,m = L.shape\n",
    "print(L.shape)"
   ]
  },
  {
   "cell_type": "code",
   "execution_count": 7,
   "metadata": {},
   "outputs": [],
   "source": [
    "# We resize the scale of V_orig.\n",
    "# This is not requirede but to ease the objective calculation.\n",
    "# V_orig is our target matrix to be decomposed"
   ]
  },
  {
   "cell_type": "markdown",
   "metadata": {},
   "source": [
    "### Matrix L"
   ]
  },
  {
   "cell_type": "code",
   "execution_count": 8,
   "metadata": {},
   "outputs": [
    {
     "data": {
      "text/plain": [
       "array([[1.        , 0.9954726 , 0.9952412 , 0.9949981 ],\n",
       "       [1.        , 0.99575776, 0.9955408 , 0.99531287],\n",
       "       [1.        , 0.9967981 , 0.99663395, 0.99646145],\n",
       "       [1.        , 0.99503773, 0.9947843 , 0.994518  ]], dtype=float32)"
      ]
     },
     "execution_count": 8,
     "metadata": {},
     "output_type": "execute_result"
    }
   ],
   "source": [
    "L = L.values.astype(our_dtype)\n",
    "L[:4,:4]"
   ]
  },
  {
   "cell_type": "markdown",
   "metadata": {},
   "source": [
    "### Weight w"
   ]
  },
  {
   "cell_type": "code",
   "execution_count": 9,
   "metadata": {},
   "outputs": [],
   "source": [
    "w = np.ones(n) / n\n",
    "w = w.astype(our_dtype)"
   ]
  },
  {
   "cell_type": "markdown",
   "metadata": {},
   "source": [
    "### Run Methods"
   ]
  },
  {
   "cell_type": "markdown",
   "metadata": {},
   "source": [
    "#### MU (Multiplicative Updates)"
   ]
  },
  {
   "cell_type": "code",
   "execution_count": 10,
   "metadata": {},
   "outputs": [
    {
     "name": "stdout",
     "output_type": "stream",
     "text": [
      "round 500: obj 0.20479034746264727\n",
      "round 1000: obj 0.204564600204316\n",
      "round 1500: obj 0.2044742109840914\n",
      "round 2000: obj 0.20442259103195382\n",
      "round 2500: obj 0.20438806590985514\n",
      "round 3000: obj 0.2043628847609376\n",
      "round 3500: obj 0.2043434984199647\n",
      "round 4000: obj 0.20432800647451183\n",
      "round 4500: obj 0.20431527685911013\n",
      "round 5000: obj 0.20430458205533414\n",
      "round 5500: obj 0.20429542780061047\n",
      "round 6000: obj 0.20428746404325746\n",
      "round 6500: obj 0.20428043491273273\n",
      "round 7000: obj 0.20427414879614827\n",
      "round 7500: obj 0.20426845949801886\n",
      "round 8000: obj 0.20426325386063887\n",
      "round 8500: obj 0.2042584433324347\n",
      "round 9000: obj 0.20425395804806237\n",
      "round 9500: obj 0.20424974256289186\n",
      "round 10000: obj 0.2042457527103046\n",
      "took 22.678959846496582 seconds\n"
     ]
    }
   ],
   "source": [
    "temp_time = time.time()\n",
    "res_mu = mixprop.run_subprob_mu(L, w)\n",
    "time_mu = time.time() - temp_time\n",
    "print(f\"took {time_mu} seconds\")"
   ]
  },
  {
   "cell_type": "code",
   "execution_count": 11,
   "metadata": {},
   "outputs": [
    {
     "name": "stdout",
     "output_type": "stream",
     "text": [
      "round 500: obj 0.20479037793236862\n",
      "round 1000: obj 0.2045646306028691\n",
      "round 1500: obj 0.20447424134445685\n",
      "round 2000: obj 0.20442262137012995\n",
      "round 2500: obj 0.20438809623322698\n",
      "round 3000: obj 0.20436291507350357\n",
      "round 3500: obj 0.20434352872418582\n",
      "round 4000: obj 0.2043280367720441\n",
      "round 4500: obj 0.2043153071511427\n",
      "round 5000: obj 0.20430461234275948\n",
      "round 5500: obj 0.20429545808412147\n",
      "round 6000: obj 0.20428749432340412\n",
      "round 6500: obj 0.20428046518995951\n",
      "round 7000: obj 0.20427417907081868\n",
      "round 7500: obj 0.20426848977043133\n",
      "round 8000: obj 0.20426328413104136\n",
      "round 8500: obj 0.20425847360103216\n",
      "round 9000: obj 0.2042539883150254\n",
      "round 9500: obj 0.20424977282836193\n",
      "round 10000: obj 0.20424578297439958\n",
      "took 22.209836959838867 seconds\n"
     ]
    }
   ],
   "source": [
    "temp_time = time.time()\n",
    "res_mu_with_normalize = mixprop.run_subprob_mu_with_normalize(L, w)\n",
    "time_mu_with_normalize = time.time() - temp_time\n",
    "print(f\"took {time_mu_with_normalize} seconds\")"
   ]
  },
  {
   "cell_type": "code",
   "execution_count": 12,
   "metadata": {},
   "outputs": [],
   "source": [
    "# run_mu is running mu without rescaling every round\n",
    "# run_mu_with_normalize is running mu with rescaling every round\n",
    "# they are visually the same\n",
    "# however one is a little slower due to rescaling\n",
    "# the other is a little numerically instable\n",
    "# however for this example they are nearly identical"
   ]
  },
  {
   "cell_type": "markdown",
   "metadata": {},
   "source": [
    "#### SCIPI (Scale Invariant Power Iteration)"
   ]
  },
  {
   "cell_type": "code",
   "execution_count": 13,
   "metadata": {},
   "outputs": [
    {
     "name": "stdout",
     "output_type": "stream",
     "text": [
      "round 500: obj 0.20456443838524307\n",
      "round 1000: obj 0.2044225552543237\n",
      "round 1500: obj 0.20436287891757027\n",
      "round 2000: obj 0.2043280132384721\n",
      "round 2500: obj 0.20430459549833885\n",
      "round 3000: obj 0.20428748144359923\n",
      "round 3500: obj 0.204274168691858\n",
      "round 4000: obj 0.20426327539307404\n",
      "round 4500: obj 0.2042539806862937\n",
      "round 5000: obj 0.20424577611678002\n",
      "round 5500: obj 0.20423833997779287\n",
      "round 6000: obj 0.204231467629592\n",
      "round 6500: obj 0.20422503008628057\n",
      "round 7000: obj 0.20421894803693275\n",
      "round 7500: obj 0.20421317483695353\n",
      "round 8000: obj 0.2042076850042545\n",
      "round 8500: obj 0.20420246627014466\n",
      "round 9000: obj 0.20419751403877723\n",
      "round 9500: obj 0.20419282754874463\n",
      "round 10000: obj 0.2041884072757886\n",
      "took 22.190831661224365 seconds\n"
     ]
    }
   ],
   "source": [
    "temp_time = time.time()\n",
    "res_scipi = mixprop.run_subprob_scipi(L, w)\n",
    "time_scipi = time.time() - temp_time\n",
    "print(f\"took {time_scipi} seconds\")"
   ]
  },
  {
   "cell_type": "code",
   "execution_count": null,
   "metadata": {},
   "outputs": [],
   "source": []
  },
  {
   "cell_type": "markdown",
   "metadata": {},
   "source": [
    "#### PGD (Projected Gradient Descent)"
   ]
  },
  {
   "cell_type": "code",
   "execution_count": 14,
   "metadata": {},
   "outputs": [],
   "source": [
    "# we have 2 versions of PGD\n",
    "# fixed step size or learning rate\n",
    "# armijo backtracking linesearch\n",
    "\n",
    "# armijo backtracking linesearch is very expensive in this case\n",
    "# it's hard to find a good \"sufficient decrease parameter\"\n",
    "# otherwise it will mostly reject candidate steps\n",
    "# see below\n",
    "# as discussed in Kim (2018), the problem itself is slow when it's solved by first order approach"
   ]
  },
  {
   "cell_type": "code",
   "execution_count": 15,
   "metadata": {},
   "outputs": [
    {
     "name": "stdout",
     "output_type": "stream",
     "text": [
      "round 500: obj 0.4822700765973368\n",
      "round 1000: obj 0.48048812239221483\n",
      "round 1500: obj 0.47871475389526064\n",
      "round 2000: obj 0.476949898436676\n",
      "round 2500: obj 0.47519348434967473\n",
      "round 3000: obj 0.4734454409530697\n",
      "round 3500: obj 0.47170569853424726\n",
      "round 4000: obj 0.46997418833253457\n",
      "round 4500: obj 0.46825084252292803\n",
      "round 5000: obj 0.46653559420019536\n",
      "round 5500: obj 0.46482837736332683\n",
      "round 6000: obj 0.46312912690033337\n",
      "round 6500: obj 0.461437778573376\n",
      "round 7000: obj 0.45975426900423744\n",
      "round 7500: obj 0.45808114899272323\n",
      "round 8000: obj 0.4564176974201452\n",
      "round 8500: obj 0.4547618451679148\n",
      "round 9000: obj 0.4531135327772947\n",
      "round 9500: obj 0.4514727015698666\n",
      "round 10000: obj 0.4498392936350206\n",
      "took 182.5590476989746 seconds\n"
     ]
    }
   ],
   "source": [
    "temp_time = time.time()\n",
    "res_pgd_with_linesearch = mixprop.run_subprob_pgd_with_linesearch(L, w, num_iter = 10000, init_stepsize = 0.1)\n",
    "time_pgd_with_linesearch = time.time() - temp_time\n",
    "print(f\"took {time_pgd_with_linesearch} seconds\")"
   ]
  },
  {
   "cell_type": "code",
   "execution_count": 16,
   "metadata": {},
   "outputs": [],
   "source": [
    "# 0.01 leads slow convergence"
   ]
  },
  {
   "cell_type": "code",
   "execution_count": 17,
   "metadata": {},
   "outputs": [
    {
     "name": "stdout",
     "output_type": "stream",
     "text": [
      "round 500: obj 0.20470468834986555\n",
      "round 1000: obj 0.20455065419064833\n",
      "round 1500: obj 0.20448484947346912\n",
      "round 2000: obj 0.20444704931654176\n",
      "round 2500: obj 0.2044230846648181\n",
      "round 3000: obj 0.20440185458805699\n",
      "round 3500: obj 0.20438837078456767\n",
      "round 4000: obj 0.20437852012191657\n",
      "round 4500: obj 0.20437019684405947\n",
      "round 5000: obj 0.2043622649173854\n",
      "round 5500: obj 0.20435504553402317\n",
      "round 6000: obj 0.20434845881968747\n",
      "round 6500: obj 0.20434198114811253\n",
      "round 7000: obj 0.20433628261008469\n",
      "round 7500: obj 0.20433076047553755\n",
      "round 8000: obj 0.20432610061254974\n",
      "round 8500: obj 0.20432195428005484\n",
      "round 9000: obj 0.20431819550961766\n",
      "round 9500: obj 0.20431517311410152\n",
      "round 10000: obj 0.20431221783408965\n",
      "took 22.58869504928589 seconds\n"
     ]
    }
   ],
   "source": [
    "temp_time = time.time()\n",
    "res_pgd0 = mixprop.run_subprob_pgd(L, w, stepsize = 0.01)\n",
    "time_pgd0 = time.time() - temp_time\n",
    "print(f\"took {time_pgd0} seconds\")"
   ]
  },
  {
   "cell_type": "code",
   "execution_count": 18,
   "metadata": {},
   "outputs": [],
   "source": [
    "# 0.012 leads fast convergence"
   ]
  },
  {
   "cell_type": "code",
   "execution_count": 19,
   "metadata": {},
   "outputs": [
    {
     "name": "stdout",
     "output_type": "stream",
     "text": [
      "round 500: obj 0.20462748858999116\n",
      "round 1000: obj 0.20450261631271488\n",
      "round 1500: obj 0.20444845235803638\n",
      "round 2000: obj 0.20441675978871657\n",
      "round 2500: obj 0.20439491262688586\n",
      "round 3000: obj 0.20437885083449028\n",
      "round 3500: obj 0.20436663085630907\n",
      "round 4000: obj 0.204356764107831\n",
      "round 4500: obj 0.20434849283083364\n",
      "round 5000: obj 0.20434146043601628\n",
      "round 5500: obj 0.20433538737947912\n",
      "round 6000: obj 0.2043300508097442\n",
      "round 6500: obj 0.20432527244354642\n",
      "round 7000: obj 0.20432092167416827\n",
      "round 7500: obj 0.2043171417716046\n",
      "round 8000: obj 0.20431366597680506\n",
      "round 8500: obj 0.20431059380817945\n",
      "round 9000: obj 0.20430776696038433\n",
      "round 9500: obj 0.20430513971333403\n",
      "round 10000: obj 0.20430269717681981\n",
      "took 22.64771008491516 seconds\n"
     ]
    }
   ],
   "source": [
    "temp_time = time.time()\n",
    "res_pgd1 = mixprop.run_subprob_pgd(L, w, stepsize = 0.012)\n",
    "time_pgd1 = time.time() - temp_time\n",
    "print(f\"took {time_pgd1} seconds\")"
   ]
  },
  {
   "cell_type": "code",
   "execution_count": 20,
   "metadata": {},
   "outputs": [],
   "source": [
    "# 0.015 leads zigzagging"
   ]
  },
  {
   "cell_type": "code",
   "execution_count": 21,
   "metadata": {},
   "outputs": [
    {
     "name": "stdout",
     "output_type": "stream",
     "text": [
      "round 500: obj 0.22904123660132858\n",
      "round 1000: obj 0.22962515270914377\n",
      "round 1500: obj 0.23063687323483\n",
      "round 2000: obj 0.22931571877812684\n",
      "round 2500: obj 0.22972275064474557\n",
      "round 3000: obj 0.22998382759242314\n",
      "round 3500: obj 0.23019709003898975\n",
      "round 4000: obj 0.2303210358773703\n",
      "round 4500: obj 0.23098582244172117\n",
      "round 5000: obj 0.2311409029234871\n",
      "round 5500: obj 0.22997914915781986\n",
      "round 6000: obj 0.22974607232524108\n",
      "round 6500: obj 0.2297435971054721\n",
      "round 7000: obj 0.2298668659741232\n",
      "round 7500: obj 0.22997012812219675\n",
      "round 8000: obj 0.2300429865452976\n",
      "round 8500: obj 0.23013818989517182\n",
      "round 9000: obj 0.2301898973060279\n",
      "round 9500: obj 0.23026530016333924\n",
      "round 10000: obj 0.230312152312721\n",
      "took 22.542251110076904 seconds\n"
     ]
    }
   ],
   "source": [
    "temp_time = time.time()\n",
    "res_pgd2 = mixprop.run_subprob_pgd(L, w, stepsize = 0.015)\n",
    "time_pgd2 = time.time() - temp_time\n",
    "print(f\"took {time_pgd2} seconds\")"
   ]
  }
 ],
 "metadata": {
  "kernelspec": {
   "display_name": "Python 3 (ipykernel)",
   "language": "python",
   "name": "python3"
  },
  "language_info": {
   "codemirror_mode": {
    "name": "ipython",
    "version": 3
   },
   "file_extension": ".py",
   "mimetype": "text/x-python",
   "name": "python",
   "nbconvert_exporter": "python",
   "pygments_lexer": "ipython3",
   "version": "3.11.1"
  }
 },
 "nbformat": 4,
 "nbformat_minor": 4
}
